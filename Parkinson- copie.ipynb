{
 "cells": [
  {
   "cell_type": "markdown",
   "metadata": {},
   "source": [
    "# <center style=\"font-family: consolas; font-size: 32px; font-weight: bold;\">🧠 Parkinson 🧠 </center>\n",
    "\n",
    "## <center style=\"font-family: consolas; font-size: 32px; font-weight: bold;\"> The Importance of Developing Machine Learning Models for Freezing of Gait (FOG) Detection in Parkinson's Disease Patients</center>\n",
    "<p><center style=\"color:#949494; font-family: consolas; font-size: 20px;\">Event detection from wearable sensor data</center></p>\n",
    "\n",
    "***"
   ]
  },
  {
   "cell_type": "markdown",
   "metadata": {},
   "source": [
    "#### <a id=\"top\"></a>\n",
    "# <div style=\"box-shadow: rgb(60, 121, 245) 0px 0px 0px 3px inset, rgb(255, 255, 255) 10px -10px 0px -3px, rgb(31, 193, 27) 10px -10px, rgb(255, 255, 255) 20px -20px 0px -3px, rgb(255, 217, 19) 20px -20px, rgb(255, 255, 255) 30px -30px 0px -3px, rgb(255, 156, 85) 30px -30px, rgb(255, 255, 255) 40px -40px 0px -3px, rgb(255, 85, 85) 40px -40px; padding:20px; margin-right: 40px; font-size:30px; font-family: consolas; text-align:center; display:fill; border-radius:15px; color:rgb(60, 121, 245);\"><b>Table of contents</b></div>\n",
    "\n",
    "<div style=\"background-color: rgba(60, 121, 245, 0.03); padding:30px; font-size:15px; font-family: consolas;\">\n",
    "\n",
    "\n",
    "* [1. Introduction](#1)\n",
    "* [2. Understanding Freezing of Gait (FOG)](#2)\n",
    "* [3. Challenges in FOG Detection](#3)\n",
    "* [4. Leveraging Machine Learning](#4)\n",
    "* [5. Early Intervention and Personalized Treatment](#5)\n",
    "* [6. Longitudinal Monitoring and Disease Progression](6#)\n",
    "* [7. Advancements and Future Directions](#7)\n",
    "* [8. Data Experiments](#8)  \n",
    "* [9. Conclusion](#9)\n"
   ]
  },
  {
   "cell_type": "markdown",
   "metadata": {},
   "source": [
    "\n"
   ]
  },
  {
   "cell_type": "markdown",
   "metadata": {},
   "source": [
    "<a id=\"1\"></a>\n",
    "\n",
    "# <div style=\"box-shadow: rgba(0, 0, 0, 0.16) 0px 1px 4px inset, rgb(51, 51, 51) 0px 0px 0px 3px inset; padding:20px; font-size:32px; font-family: consolas; text-align:center; display:fill; border-radius:15px;  color:rgb(34, 34, 34);\"> <b> 1. Introduction:\n",
    " </b></div>\n",
    "\n",
    "Parkinson's disease (PD) is a debilitating neurodegenerative disorder affecting millions of individuals worldwide. Among its distressing symptoms, Freezing of Gait (FOG) stands out as a significant challenge for patients. FOG refers to the temporary inability to initiate or continue walking, leading to mobility impairments and an increased risk of falls. This article highlights the crucial importance of developing machine learning models for the accurate and timely detection of FOG in PD patients.\n",
    "\n",
    "<a id=\"2\"></a>\n",
    "\n",
    "# <div style=\"box-shadow: rgba(0, 0, 0, 0.16) 0px 1px 4px inset, rgb(51, 51, 51) 0px 0px 0px 3px inset; padding:20px; font-size:32px; font-family: consolas; text-align:center; display:fill; border-radius:15px;  color:rgb(34, 34, 34);\"> <b> 2. Understanding Freezing of Gait (FOG)\n",
    " </b></div>\n",
    "\n",
    "FOG episodes are characterized by a sudden and involuntary halt in locomotion, making it feel as though the feet are glued to the ground. This phenomenon occurs unpredictably and significantly impacts the quality of life for PD patients. Understanding the underlying causes and developing effective detection methods are vital for managing FOG and improving patient outcomes.\n",
    "\n",
    "<a id=\"3\"></a>\n",
    "\n",
    "# <div style=\"box-shadow: rgba(0, 0, 0, 0.16) 0px 1px 4px inset, rgb(51, 51, 51) 0px 0px 0px 3px inset; padding:20px; font-size:32px; font-family: consolas; text-align:center; display:fill; border-radius:15px;  color:rgb(34, 34, 34);\"> <b> 3. Challenges in FOG Detection\n",
    " </b></div>\n",
    "\n",
    "\n",
    "Traditional FOG detection methods rely on subjective assessments from healthcare professionals or self-reported patient diaries. However, these methods have limitations, including subjectivity and reliance on retrospective reports. Machine learning provides a powerful solution by leveraging algorithms to analyze large datasets, extract relevant features, and identify patterns associated with FOG.\n",
    "\n",
    "<a id=\"4\"></a>\n",
    "\n",
    "# <div style=\"box-shadow: rgba(0, 0, 0, 0.16) 0px 1px 4px inset, rgb(51, 51, 51) 0px 0px 0px 3px inset; padding:20px; font-size:32px; font-family: consolas; text-align:center; display:fill; border-radius:15px;  color:rgb(34, 34, 34);\"> <b> 4. Leveraging Machine Learning\n",
    " </b></div>\n",
    "\n",
    "\n",
    "Machine learning models offer the potential to detect FOG more accurately and objectively. By utilizing data from wearable sensors, such as accelerometers and gyroscopes, or video recordings, machine learning algorithms can be trained to recognize distinct patterns in gait parameters. Features such as gait velocity, step length, and variability can be extracted and used to distinguish between normal gait and FOG episodes.\n",
    "\n",
    "\n",
    "<a id=\"5\"></a>\n",
    "\n",
    "# <div style=\"box-shadow: rgba(0, 0, 0, 0.16) 0px 1px 4px inset, rgb(51, 51, 51) 0px 0px 0px 3px inset; padding:20px; font-size:32px; font-family: consolas; text-align:center; display:fill; border-radius:15px;  color:rgb(34, 34, 34);\"> <b> 5. Early Intervention and Personalized Treatment\n",
    " </b></div>\n",
    "\n",
    "\n",
    "Early detection of FOG using machine learning models can enable prompt intervention and personalized treatment strategies for PD patients. Wearable devices equipped with FOG detection algorithms can provide real-time feedback and alerts, allowing individuals to anticipate and manage their symptoms effectively. This proactive approach reduces the risk of falls and enhances mobility, ultimately improving the overall quality of life for PD patients.\n",
    "\n",
    "<a id=\"6\"></a>\n",
    "\n",
    "# <div style=\"box-shadow: rgba(0, 0, 0, 0.16) 0px 1px 4px inset, rgb(51, 51, 51) 0px 0px 0px 3px inset; padding:20px; font-size:32px; font-family: consolas; text-align:center; display:fill; border-radius:15px;  color:rgb(34, 34, 34);\"> <b> 6. Longitudinal Monitoring and Disease Progression\n",
    " </b></div>\n",
    "\n",
    "\n",
    "Machine learning models also offer the opportunity to monitor disease progression and evaluate treatment effectiveness. By continuously analyzing gait data over time, these models can detect subtle changes, allowing healthcare professionals to assess the impact of interventions and adjust treatment plans accordingly. This longitudinal monitoring enhances the ability to optimize management strategies and improve outcomes for PD patients.\n",
    "\n",
    "<a id=\"7\"></a>\n",
    "\n",
    "# <div style=\"box-shadow: rgba(0, 0, 0, 0.16) 0px 1px 4px inset, rgb(51, 51, 51) 0px 0px 0px 3px inset; padding:20px; font-size:32px; font-family: consolas; text-align:center; display:fill; border-radius:15px;  color:rgb(34, 34, 34);\"> <b> 7. Advancements and Future Directions\n",
    " </b></div>\n",
    "\n",
    "\n",
    "The field of machine learning for FOG detection is rapidly evolving, presenting exciting possibilities for further advancements. Techniques such as deep learning and reinforcement learning show promise in improving the accuracy and reliability of FOG detection models. Moreover, the integration of machine learning algorithms into portable and cost-effective devices holds potential for widespread adoption and accessibility in various healthcare settings.\n",
    "\n",
    "<a id=\"8\"></a>\n",
    "\n",
    "# <div style=\"box-shadow: rgba(0, 0, 0, 0.16) 0px 1px 4px inset, rgb(51, 51, 51) 0px 0px 0px 3px inset; padding:20px; font-size:32px; font-family: consolas; text-align:center; display:fill; border-radius:15px;  color:rgb(34, 34, 34);\"> <b> 8. Conclusion\n",
    " </b></div>\n",
    "\n",
    "\n",
    "Developing machine learning models for the detection of Freezing of Gait in Parkinson's disease patients represents a significant advancement in healthcare. By providing objective and accurate assessments, these models have the potential to revolutionize FOG detection, enabling early intervention, personalized treatment, and improved quality of life for PD patients. Continued research and development in this area will further enhance our understanding of FOG and contribute to better management strategies for individuals living with Parkinson's disease."
   ]
  },
  {
   "cell_type": "markdown",
   "metadata": {},
   "source": [
    "<a id=\"0\"></a>\n",
    "# <div style=\"box-shadow: rgba(0, 0, 0, 0.16) 0px 1px 4px inset, rgb(51, 51, 51) 0px 0px 0px 3px inset; padding:20px; font-size:32px; font-family: consolas; text-align:center; display:fill; border-radius:15px;  color:rgb(34, 34, 34);\"> <b> 0. Import all dependencies </b></div>"
   ]
  },
  {
   "cell_type": "code",
   "execution_count": null,
   "metadata": {
    "execution": {
     "iopub.execute_input": "2023-03-12T12:22:34.881237Z",
     "iopub.status.busy": "2023-03-12T12:22:34.880831Z",
     "iopub.status.idle": "2023-03-12T12:22:38.432887Z",
     "shell.execute_reply": "2023-03-12T12:22:38.431545Z",
     "shell.execute_reply.started": "2023-03-12T12:22:34.881203Z"
    }
   },
   "outputs": [],
   "source": [
    "import os\n",
    "import random\n",
    "import cv2\n",
    "import pandas as pd\n",
    "import numpy as np\n",
    "import plotly.express as px\n",
    "import matplotlib.pyplot as plt"
   ]
  },
  {
   "cell_type": "code",
   "execution_count": null,
   "metadata": {
    "execution": {
     "iopub.execute_input": "2023-03-12T12:22:38.436388Z",
     "iopub.status.busy": "2023-03-12T12:22:38.435579Z",
     "iopub.status.idle": "2023-03-12T12:22:38.443519Z",
     "shell.execute_reply": "2023-03-12T12:22:38.441936Z",
     "shell.execute_reply.started": "2023-03-12T12:22:38.436339Z"
    }
   },
   "outputs": [],
   "source": [
    "class color:\n",
    "   PURPLE = '\\033[95m'\n",
    "   CYAN = '\\033[96m'\n",
    "   DARKCYAN = '\\033[36m'\n",
    "   BLUE = '\\033[94m'\n",
    "   GREEN = '\\033[92m'\n",
    "   YELLOW = '\\033[93m'\n",
    "   RED = '\\033[91m'\n",
    "   BOLD = '\\033[1m'\n",
    "   UNDERLINE = '\\033[4m'\n",
    "   END = '\\033[0m'"
   ]
  },
  {
   "cell_type": "markdown",
   "metadata": {},
   "source": [
    "<a id=\"1\"></a>\n",
    "# <div style=\"box-shadow: rgba(0, 0, 0, 0.16) 0px 1px 4px inset, rgb(51, 51, 51) 0px 0px 0px 3px inset; padding:20px; font-size:32px; font-family: consolas; text-align:center; display:fill; border-radius:15px;  color:rgb(34, 34, 34);\"> <b> 1. Overview availiable directories </b></div>"
   ]
  },
  {
   "cell_type": "markdown",
   "metadata": {},
   "source": [
    "<p style=\"font-family: consolas; font-size: 16px;\">⚪ The data series include three datasets, collected under distinct circumstances:</p>\n",
    "\n",
    "* <p style=\"font-family: consolas; font-size: 16px;\">The <b>tDCS FOG</b> (<code>tdcsfog</code>) dataset, comprising data series collected in the lab, as subjects completed a FOG-provoking protocol.</p>\n",
    "* <p style=\"font-family: consolas; font-size: 16px;\">The <b>DeFOG</b> (<code>defog</code>) dataset, comprising data series collected in the subject's home, as subjects completed a FOG-provoking protocol.</p>\n",
    "* <p style=\"font-family: consolas; font-size: 16px;\">The <b>Daily Living</b> (<code>daily</code>) dataset, comprising one week of continuous 24/7 recordings from sixty-five subjects. Forty-five subjects exhibit FOG symptoms and also have series in the <code>defog</code> dataset, while the other twenty subjects do not exhibit FOG symptoms and do not have series elsewhere in the data.</p>\n",
    "\n",
    "\n",
    "<p style=\"font-family: consolas; font-size: 16px;\">⚪ Trials from the <code>tdcsfog</code> and <code>defog</code> datasets were videotaped and annotated by expert reviewers documented the freezing of gait episodes. That is, the start, end and type of each episode were marked by the experts. Series in the <code>daily</code> dataset are unannotated.</p>\n",
    "<p style=\"font-family: consolas; font-size: 16px;\">⚪ You will be detecting FOG episodes for the <code>tdcsfog</code> and <code>defog</code> series. You may wish to apply unsupervised or semi-supervised methods to the series in the <code>daily</code> dataset to support your detection modelling.</p>\n",
    "<p style=\"font-family: consolas; font-size: 16px;\">🔴 See this page for more on these datasets as well as video examples of freezing of gait events: <a href=\"https://www.kaggle.com/competitions/tlvmc-parkinsons-freezing-gait-prediction/overview/additional-data-documentation\"><strong>Additional Data Documentation</strong></a>.</p>"
   ]
  },
  {
   "cell_type": "markdown",
   "metadata": {},
   "source": [
    "<a id=\"1.1\"></a>\n",
    "## <div style=\"box-shadow: rgba(0, 0, 0, 0.18) 0px 2px 4px inset; padding:20px; font-size:24px; font-family: consolas; text-align:center; display:fill; border-radius:15px; color:rgb(67, 66, 66)\"> <b> 1.1 Overview <i>train/</i> directory</b></div>"
   ]
  },
  {
   "cell_type": "markdown",
   "metadata": {},
   "source": [
    "<p style=\"font-family: consolas; font-size: 16px;\">⚪ <b>train/</b> Folder containing the data series in the training set within three subfolders: <b>tdcsfog/</b>, <b>defog/</b>, and <b>notype/</b>. Series in the notype folder are from the <code>defog</code> dataset but lack event-type annotations. The fields present in these series vary by folder.</p>\n",
    "\n",
    "* <p style=\"font-family: consolas; font-size: 16px;\"><code>Time</code> An integer timestep. Series from the <code>tdcsfog</code> dataset are recorded at 128Hz (128 timesteps per second), while series from the <code>defog</code> and <code>daily</code> series are recorded at 100Hz (100 timesteps per second).</p>\n",
    "* <p style=\"font-family: consolas; font-size: 16px;\"><code>AccV</code>, <code>AccML</code>, and <code>AccAP</code> Acceleration in units of g, from a lower-back sensor on three axes: V - vertical, ML - mediolateral, AP - anteroposterior.</p>\n",
    "* <p style=\"font-family: consolas; font-size: 16px;\"><code>StartHesitation</code>, <code>Turn</code>, <code>Walking</code> Indicator variables for the occurrence of each of the event types.</p>\n",
    "* <p style=\"font-family: consolas; font-size: 16px;\"><code>Event</code> Indicator variable for the occurrence of any FOG-type event. Present only in the <b>notype</b> series, which lack type-level annotations.</p>\n",
    "* <p style=\"font-family: consolas; font-size: 16px;\"><code>Valid</code> There were cases during the video annotation that were hard for the annotator to decide if there was an Akinetic (i.e., essentially no movement) FoG or the subject stopped voluntarily. Only event annotations where the series is marked true should be considered as unambiguous.</p>\n",
    "* <p style=\"font-family: consolas; font-size: 16px;\"><code>Task</code> Series were only annotated where this value is <b>true</b>. Portions marked <b>false</b> should be considered unannotated.</p>"
   ]
  },
  {
   "cell_type": "markdown",
   "metadata": {},
   "source": [
    "<p style=\"font-family: consolas; font-size: 16px;\">❔ let's check what directories are in the train folder.</p>"
   ]
  },
  {
   "cell_type": "code",
   "execution_count": null,
   "metadata": {
    "execution": {
     "iopub.execute_input": "2023-03-12T12:22:38.445619Z",
     "iopub.status.busy": "2023-03-12T12:22:38.445209Z",
     "iopub.status.idle": "2023-03-12T12:22:38.475639Z",
     "shell.execute_reply": "2023-03-12T12:22:38.474333Z",
     "shell.execute_reply.started": "2023-03-12T12:22:38.445584Z"
    }
   },
   "outputs": [],
   "source": [
    "os.listdir(\"/kaggle/input/tlvmc-parkinsons-freezing-gait-prediction/train\")"
   ]
  },
  {
   "cell_type": "markdown",
   "metadata": {},
   "source": [
    "<p style=\"font-family: consolas; font-size: 16px;\">❔ How many files are in folder <i>tdcsfog/</i>.</p>"
   ]
  },
  {
   "cell_type": "code",
   "execution_count": null,
   "metadata": {
    "execution": {
     "iopub.execute_input": "2023-03-12T12:22:38.479402Z",
     "iopub.status.busy": "2023-03-12T12:22:38.478369Z",
     "iopub.status.idle": "2023-03-12T12:22:38.542458Z",
     "shell.execute_reply": "2023-03-12T12:22:38.541248Z",
     "shell.execute_reply.started": "2023-03-12T12:22:38.479349Z"
    }
   },
   "outputs": [],
   "source": [
    "temp = len(os.listdir(\"/kaggle/input/tlvmc-parkinsons-freezing-gait-prediction/train/tdcsfog\"))\n",
    "print(\n",
    "    f\"Number of files in folder tdcsfog/: {color.BLUE}{temp}{color.END}\",\n",
    ")"
   ]
  },
  {
   "cell_type": "markdown",
   "metadata": {},
   "source": [
    "<p style=\"font-family: consolas; font-size: 16px;\">❔ How the data looks like.</p>"
   ]
  },
  {
   "cell_type": "code",
   "execution_count": null,
   "metadata": {
    "execution": {
     "iopub.execute_input": "2023-03-12T13:01:34.879122Z",
     "iopub.status.busy": "2023-03-12T13:01:34.878578Z",
     "iopub.status.idle": "2023-03-12T13:01:34.896515Z",
     "shell.execute_reply": "2023-03-12T13:01:34.894833Z",
     "shell.execute_reply.started": "2023-03-12T13:01:34.879071Z"
    }
   },
   "outputs": [],
   "source": [
    "train_tdcsfog_example_df = pd.read_csv(\"/kaggle/input/tlvmc-parkinsons-freezing-gait-prediction/train/tdcsfog/003f117e14.csv\")"
   ]
  },
  {
   "cell_type": "code",
   "execution_count": null,
   "metadata": {
    "execution": {
     "iopub.execute_input": "2023-03-12T13:01:35.167197Z",
     "iopub.status.busy": "2023-03-12T13:01:35.166102Z",
     "iopub.status.idle": "2023-03-12T13:01:35.176025Z",
     "shell.execute_reply": "2023-03-12T13:01:35.174247Z",
     "shell.execute_reply.started": "2023-03-12T13:01:35.167136Z"
    }
   },
   "outputs": [],
   "source": [
    "temp = len(train_tdcsfog_example_df)\n",
    "print(\n",
    "    f\"Length of dataframe: {color.BLUE}{temp}{color.END}\",\n",
    ")"
   ]
  },
  {
   "cell_type": "code",
   "execution_count": null,
   "metadata": {
    "execution": {
     "iopub.execute_input": "2023-03-12T13:01:37.471181Z",
     "iopub.status.busy": "2023-03-12T13:01:37.470695Z",
     "iopub.status.idle": "2023-03-12T13:01:37.488066Z",
     "shell.execute_reply": "2023-03-12T13:01:37.486652Z",
     "shell.execute_reply.started": "2023-03-12T13:01:37.471131Z"
    }
   },
   "outputs": [],
   "source": [
    "train_tdcsfog_example_df.head()"
   ]
  },
  {
   "cell_type": "code",
   "execution_count": null,
   "metadata": {
    "execution": {
     "iopub.execute_input": "2023-03-12T13:01:37.834636Z",
     "iopub.status.busy": "2023-03-12T13:01:37.832995Z",
     "iopub.status.idle": "2023-03-12T13:01:37.877049Z",
     "shell.execute_reply": "2023-03-12T13:01:37.875663Z",
     "shell.execute_reply.started": "2023-03-12T13:01:37.83457Z"
    }
   },
   "outputs": [],
   "source": [
    "train_tdcsfog_example_df.describe()"
   ]
  },
  {
   "cell_type": "markdown",
   "metadata": {},
   "source": [
    "<p style=\"font-family: consolas; font-size: 16px;\">❔ Is there any NaN values in the dataframe.</p>"
   ]
  },
  {
   "cell_type": "code",
   "execution_count": null,
   "metadata": {
    "execution": {
     "iopub.execute_input": "2023-03-12T13:01:39.208617Z",
     "iopub.status.busy": "2023-03-12T13:01:39.207248Z",
     "iopub.status.idle": "2023-03-12T13:01:39.220921Z",
     "shell.execute_reply": "2023-03-12T13:01:39.219711Z",
     "shell.execute_reply.started": "2023-03-12T13:01:39.208549Z"
    }
   },
   "outputs": [],
   "source": [
    "train_tdcsfog_example_df.isnull().sum()"
   ]
  },
  {
   "cell_type": "markdown",
   "metadata": {},
   "source": [
    "<p style=\"font-family: consolas; font-size: 16px;\">❔ How many files are in folder <i>defog/</i>.</p>"
   ]
  },
  {
   "cell_type": "code",
   "execution_count": null,
   "metadata": {
    "execution": {
     "iopub.execute_input": "2023-03-12T13:01:40.540302Z",
     "iopub.status.busy": "2023-03-12T13:01:40.539826Z",
     "iopub.status.idle": "2023-03-12T13:01:40.548243Z",
     "shell.execute_reply": "2023-03-12T13:01:40.547114Z",
     "shell.execute_reply.started": "2023-03-12T13:01:40.540264Z"
    }
   },
   "outputs": [],
   "source": [
    "temp = len(os.listdir(\"/kaggle/input/tlvmc-parkinsons-freezing-gait-prediction/train/defog\"))\n",
    "print(\n",
    "    f\"Number of files in folder defog/: {color.BLUE}{temp}{color.END}\",\n",
    ")"
   ]
  },
  {
   "cell_type": "markdown",
   "metadata": {},
   "source": [
    "<p style=\"font-family: consolas; font-size: 16px;\">❔ How many files are in folder <i>notype/</i>.</p>"
   ]
  },
  {
   "cell_type": "code",
   "execution_count": null,
   "metadata": {
    "execution": {
     "iopub.execute_input": "2023-03-12T13:01:41.301291Z",
     "iopub.status.busy": "2023-03-12T13:01:41.300816Z",
     "iopub.status.idle": "2023-03-12T13:01:41.309585Z",
     "shell.execute_reply": "2023-03-12T13:01:41.307929Z",
     "shell.execute_reply.started": "2023-03-12T13:01:41.301253Z"
    }
   },
   "outputs": [],
   "source": [
    "temp = len(os.listdir(\"/kaggle/input/tlvmc-parkinsons-freezing-gait-prediction/train/notype\"))\n",
    "print(\n",
    "    f\"Number of files in folder notype/: {color.BLUE}{temp}{color.END}\",\n",
    ")"
   ]
  },
  {
   "cell_type": "markdown",
   "metadata": {},
   "source": [
    "<p style=\"font-family: consolas; font-size: 16px;\">❔ How is the time sirieses for features 'AccV','AccML','AccAP' looks like.</p>"
   ]
  },
  {
   "cell_type": "code",
   "execution_count": null,
   "metadata": {
    "execution": {
     "iopub.execute_input": "2023-03-12T13:11:10.107768Z",
     "iopub.status.busy": "2023-03-12T13:11:10.107228Z",
     "iopub.status.idle": "2023-03-12T13:11:10.312859Z",
     "shell.execute_reply": "2023-03-12T13:11:10.310992Z",
     "shell.execute_reply.started": "2023-03-12T13:11:10.107724Z"
    }
   },
   "outputs": [],
   "source": [
    "for column in ['AccV','AccML','AccAP']:\n",
    "    fig = px.line(train_tdcsfog_example_df, x=\"Time\", y=column, color_discrete_sequence=['darkslateblue'])\n",
    "    fig.update_layout(\n",
    "        title={\n",
    "            'text': f\"{column} Time Siries\",\n",
    "            'y':0.95,\n",
    "            'x':0.5,\n",
    "            'xanchor': 'center',\n",
    "            'yanchor': 'top'\n",
    "        }\n",
    "    )\n",
    "    fig.show()"
   ]
  },
  {
   "cell_type": "markdown",
   "metadata": {},
   "source": [
    "<p style=\"font-family: consolas; font-size: 16px;\">❔ How is the correlation matrix for the data looks like.</p>"
   ]
  },
  {
   "cell_type": "code",
   "execution_count": null,
   "metadata": {
    "execution": {
     "iopub.execute_input": "2023-03-12T13:01:43.402309Z",
     "iopub.status.busy": "2023-03-12T13:01:43.400834Z",
     "iopub.status.idle": "2023-03-12T13:01:43.469459Z",
     "shell.execute_reply": "2023-03-12T13:01:43.467881Z",
     "shell.execute_reply.started": "2023-03-12T13:01:43.402247Z"
    }
   },
   "outputs": [],
   "source": [
    "corr_mat = np.round(train_tdcsfog_example_df.drop(\n",
    "    [\"StartHesitation\", \"Walking\"], axis=1\n",
    ").corr(), 3)\n",
    "\n",
    "fig = px.imshow(\n",
    "    corr_mat,\n",
    "    x=corr_mat.columns,\n",
    "    y=corr_mat.columns, \n",
    "    text_auto=True\n",
    "   )\n",
    "fig.update_xaxes(side=\"bottom\")\n",
    "fig.update_layout(\n",
    "    title={\n",
    "        'text': \"Correlation Matrix of tdcsfog train instance\",\n",
    "        'y':0.95,\n",
    "        'x':0.5,\n",
    "        'xanchor': 'center',\n",
    "        'yanchor': 'top'\n",
    "    }\n",
    ")\n",
    "\n",
    "fig.show()"
   ]
  },
  {
   "cell_type": "markdown",
   "metadata": {},
   "source": [
    "<a id=\"1.2\"></a>\n",
    "## <div style=\"box-shadow: rgba(0, 0, 0, 0.18) 0px 2px 4px inset; padding:20px; font-size:24px; font-family: consolas; text-align:center; display:fill; border-radius:15px; color:rgb(67, 66, 66)\"> <b> 1.2 Overview <i>test/</i> directory</b></div>"
   ]
  },
  {
   "cell_type": "markdown",
   "metadata": {},
   "source": [
    "<p style=\"font-family: consolas; font-size: 16px;\">⚪ <b>test/</b> Only the <code>Time</code>, <code>AccV</code>, <code>AccML</code>, and <code>AccAP</code> fields are provided for the test series.</p>\n"
   ]
  },
  {
   "cell_type": "code",
   "execution_count": null,
   "metadata": {
    "execution": {
     "iopub.execute_input": "2023-03-12T12:22:40.732032Z",
     "iopub.status.busy": "2023-03-12T12:22:40.731185Z",
     "iopub.status.idle": "2023-03-12T12:22:40.745Z",
     "shell.execute_reply": "2023-03-12T12:22:40.742522Z",
     "shell.execute_reply.started": "2023-03-12T12:22:40.731981Z"
    }
   },
   "outputs": [],
   "source": [
    "os.listdir(\"/kaggle/input/tlvmc-parkinsons-freezing-gait-prediction/test\")"
   ]
  },
  {
   "cell_type": "markdown",
   "metadata": {},
   "source": [
    "<p style=\"font-family: consolas; font-size: 16px;\">❔ How many files are in folder <i>tdcsfog/</i>.</p>"
   ]
  },
  {
   "cell_type": "code",
   "execution_count": null,
   "metadata": {
    "execution": {
     "iopub.execute_input": "2023-03-12T12:22:40.747567Z",
     "iopub.status.busy": "2023-03-12T12:22:40.747Z",
     "iopub.status.idle": "2023-03-12T12:22:40.7637Z",
     "shell.execute_reply": "2023-03-12T12:22:40.762156Z",
     "shell.execute_reply.started": "2023-03-12T12:22:40.747508Z"
    }
   },
   "outputs": [],
   "source": [
    "temp = len(os.listdir(\"/kaggle/input/tlvmc-parkinsons-freezing-gait-prediction/test/tdcsfog\"))\n",
    "print(\n",
    "    f\"Number of files in folder tdcsfog/: {color.BLUE}{temp}{color.END}\",\n",
    ")"
   ]
  },
  {
   "cell_type": "markdown",
   "metadata": {},
   "source": [
    "<p style=\"font-family: consolas; font-size: 16px;\">❔ How many files are in folder <i>defog/</i>.</p>"
   ]
  },
  {
   "cell_type": "code",
   "execution_count": null,
   "metadata": {
    "execution": {
     "iopub.execute_input": "2023-03-12T12:22:40.766112Z",
     "iopub.status.busy": "2023-03-12T12:22:40.765317Z",
     "iopub.status.idle": "2023-03-12T12:22:40.780358Z",
     "shell.execute_reply": "2023-03-12T12:22:40.777963Z",
     "shell.execute_reply.started": "2023-03-12T12:22:40.766068Z"
    }
   },
   "outputs": [],
   "source": [
    "temp = len(os.listdir(\"/kaggle/input/tlvmc-parkinsons-freezing-gait-prediction/test/defog\"))\n",
    "print(\n",
    "    f\"Number of files in folder defog/: {color.BLUE}{temp}{color.END}\",\n",
    ")"
   ]
  },
  {
   "cell_type": "markdown",
   "metadata": {},
   "source": [
    "<p style=\"font-family: consolas; font-size: 16px;\">❔ How the test data looks like.</p>"
   ]
  },
  {
   "cell_type": "code",
   "execution_count": null,
   "metadata": {
    "execution": {
     "iopub.execute_input": "2023-03-12T12:22:40.782513Z",
     "iopub.status.busy": "2023-03-12T12:22:40.782118Z",
     "iopub.status.idle": "2023-03-12T12:22:40.805029Z",
     "shell.execute_reply": "2023-03-12T12:22:40.804009Z",
     "shell.execute_reply.started": "2023-03-12T12:22:40.782472Z"
    }
   },
   "outputs": [],
   "source": [
    "test_tdcsfog_example_df = pd.read_csv(\"/kaggle/input/tlvmc-parkinsons-freezing-gait-prediction/test/tdcsfog/003f117e14.csv\")"
   ]
  },
  {
   "cell_type": "code",
   "execution_count": null,
   "metadata": {
    "execution": {
     "iopub.execute_input": "2023-03-12T12:22:40.807454Z",
     "iopub.status.busy": "2023-03-12T12:22:40.806408Z",
     "iopub.status.idle": "2023-03-12T12:22:40.814138Z",
     "shell.execute_reply": "2023-03-12T12:22:40.812847Z",
     "shell.execute_reply.started": "2023-03-12T12:22:40.807387Z"
    }
   },
   "outputs": [],
   "source": [
    "temp = len(test_tdcsfog_example_df)\n",
    "print(\n",
    "    f\"Length of dataframe: {color.BLUE}{temp}{color.END}\",\n",
    ")"
   ]
  },
  {
   "cell_type": "code",
   "execution_count": null,
   "metadata": {
    "execution": {
     "iopub.execute_input": "2023-03-12T12:22:40.816888Z",
     "iopub.status.busy": "2023-03-12T12:22:40.816047Z",
     "iopub.status.idle": "2023-03-12T12:22:40.836788Z",
     "shell.execute_reply": "2023-03-12T12:22:40.835017Z",
     "shell.execute_reply.started": "2023-03-12T12:22:40.816848Z"
    }
   },
   "outputs": [],
   "source": [
    "test_tdcsfog_example_df.head()"
   ]
  },
  {
   "cell_type": "code",
   "execution_count": null,
   "metadata": {
    "execution": {
     "iopub.execute_input": "2023-03-12T12:22:40.840392Z",
     "iopub.status.busy": "2023-03-12T12:22:40.838691Z",
     "iopub.status.idle": "2023-03-12T12:22:40.87423Z",
     "shell.execute_reply": "2023-03-12T12:22:40.872518Z",
     "shell.execute_reply.started": "2023-03-12T12:22:40.840342Z"
    }
   },
   "outputs": [],
   "source": [
    "test_tdcsfog_example_df.describe()"
   ]
  },
  {
   "cell_type": "markdown",
   "metadata": {},
   "source": [
    "<p style=\"font-family: consolas; font-size: 16px;\">❔ How is the correlation matrix for the data looks like.</p>"
   ]
  },
  {
   "cell_type": "code",
   "execution_count": null,
   "metadata": {
    "execution": {
     "iopub.execute_input": "2023-03-12T12:22:40.877152Z",
     "iopub.status.busy": "2023-03-12T12:22:40.876599Z",
     "iopub.status.idle": "2023-03-12T12:22:40.943741Z",
     "shell.execute_reply": "2023-03-12T12:22:40.942332Z",
     "shell.execute_reply.started": "2023-03-12T12:22:40.877098Z"
    }
   },
   "outputs": [],
   "source": [
    "corr_mat = np.round(test_tdcsfog_example_df.corr(), 3)\n",
    "\n",
    "fig = px.imshow(\n",
    "    corr_mat,\n",
    "    x=corr_mat.columns,\n",
    "    y=corr_mat.columns, \n",
    "    text_auto=True\n",
    "   )\n",
    "fig.update_xaxes(side=\"bottom\")\n",
    "fig.update_layout(\n",
    "    title={\n",
    "        'text': \"Correlation Matrix of tdcsfog test instance\",\n",
    "        'y':0.95,\n",
    "        'x':0.5,\n",
    "        'xanchor': 'center',\n",
    "        'yanchor': 'top'\n",
    "    }\n",
    ")\n",
    "\n",
    "fig.show()"
   ]
  },
  {
   "cell_type": "markdown",
   "metadata": {},
   "source": [
    "<a id=\"1.3\"></a>\n",
    "## <div style=\"box-shadow: rgba(0, 0, 0, 0.18) 0px 2px 4px inset; padding:20px; font-size:24px; font-family: consolas; text-align:center; display:fill; border-radius:15px; color:rgb(67, 66, 66)\"> <b> 1.3 Overview <i>unlabeled/</i> directory</b></div>"
   ]
  },
  {
   "cell_type": "markdown",
   "metadata": {},
   "source": [
    "<p style=\"font-family: consolas; font-size: 16px;\">⚪ <b>unlabeled/</b> Folder containing the unannotated data series from the <code>daily</code> dataset, one series per subject. Forty-five of the subjects also have series in the <code>defog</code> dataset, some in the training split and some in the test split.</p>\n"
   ]
  },
  {
   "cell_type": "markdown",
   "metadata": {},
   "source": [
    "<p style=\"font-family: consolas; font-size: 16px;\">❔ How many files are in folder <i>unlabeled/</i>.</p>"
   ]
  },
  {
   "cell_type": "code",
   "execution_count": null,
   "metadata": {
    "execution": {
     "iopub.execute_input": "2023-03-12T12:22:40.947049Z",
     "iopub.status.busy": "2023-03-12T12:22:40.945407Z",
     "iopub.status.idle": "2023-03-12T12:22:40.97177Z",
     "shell.execute_reply": "2023-03-12T12:22:40.970718Z",
     "shell.execute_reply.started": "2023-03-12T12:22:40.947004Z"
    }
   },
   "outputs": [],
   "source": [
    "temp = len(os.listdir(\"/kaggle/input/tlvmc-parkinsons-freezing-gait-prediction/unlabeled\"))\n",
    "print(\n",
    "    f\"Number of files in folder unlabeled/: {color.BLUE}{temp}{color.END}\",\n",
    ")"
   ]
  },
  {
   "cell_type": "markdown",
   "metadata": {},
   "source": [
    "<p style=\"font-family: consolas; font-size: 16px;\">❔ How the data looks like.</p>"
   ]
  },
  {
   "cell_type": "code",
   "execution_count": null,
   "metadata": {
    "execution": {
     "iopub.execute_input": "2023-03-12T12:22:40.974038Z",
     "iopub.status.busy": "2023-03-12T12:22:40.973142Z",
     "iopub.status.idle": "2023-03-12T12:22:50.387926Z",
     "shell.execute_reply": "2023-03-12T12:22:50.386848Z",
     "shell.execute_reply.started": "2023-03-12T12:22:40.974003Z"
    }
   },
   "outputs": [],
   "source": [
    "unlabeled_example_df = pd.read_parquet(\"/kaggle/input/tlvmc-parkinsons-freezing-gait-prediction/unlabeled/00c4c9313d.parquet\")"
   ]
  },
  {
   "cell_type": "code",
   "execution_count": null,
   "metadata": {
    "execution": {
     "iopub.execute_input": "2023-03-12T12:22:50.39007Z",
     "iopub.status.busy": "2023-03-12T12:22:50.389544Z",
     "iopub.status.idle": "2023-03-12T12:22:50.40272Z",
     "shell.execute_reply": "2023-03-12T12:22:50.401518Z",
     "shell.execute_reply.started": "2023-03-12T12:22:50.390018Z"
    }
   },
   "outputs": [],
   "source": [
    "unlabeled_example_df.head()"
   ]
  },
  {
   "cell_type": "code",
   "execution_count": null,
   "metadata": {
    "execution": {
     "iopub.execute_input": "2023-03-12T12:22:50.405735Z",
     "iopub.status.busy": "2023-03-12T12:22:50.404306Z",
     "iopub.status.idle": "2023-03-12T12:23:01.028171Z",
     "shell.execute_reply": "2023-03-12T12:23:01.026846Z",
     "shell.execute_reply.started": "2023-03-12T12:22:50.405689Z"
    }
   },
   "outputs": [],
   "source": [
    "unlabeled_example_df.describe()"
   ]
  },
  {
   "cell_type": "markdown",
   "metadata": {},
   "source": [
    "<p style=\"font-family: consolas; font-size: 16px;\">❔ How is the correlation matrix for the data looks like.</p>"
   ]
  },
  {
   "cell_type": "code",
   "execution_count": null,
   "metadata": {
    "execution": {
     "iopub.execute_input": "2023-03-12T12:23:01.030399Z",
     "iopub.status.busy": "2023-03-12T12:23:01.029795Z",
     "iopub.status.idle": "2023-03-12T12:23:06.234124Z",
     "shell.execute_reply": "2023-03-12T12:23:06.232725Z",
     "shell.execute_reply.started": "2023-03-12T12:23:01.030363Z"
    }
   },
   "outputs": [],
   "source": [
    "corr_mat = np.round(unlabeled_example_df.corr(), 3)\n",
    "\n",
    "fig = px.imshow(\n",
    "    corr_mat,\n",
    "    x=corr_mat.columns,\n",
    "    y=corr_mat.columns, \n",
    "    text_auto=True\n",
    "   )\n",
    "fig.update_xaxes(side=\"bottom\")\n",
    "fig.update_layout(\n",
    "    title={\n",
    "        'text': \"Correlation Matrix of unlabeled instance\",\n",
    "        'y':0.95,\n",
    "        'x':0.5,\n",
    "        'xanchor': 'center',\n",
    "        'yanchor': 'top'\n",
    "    }\n",
    ")\n",
    "\n",
    "fig.show()"
   ]
  },
  {
   "cell_type": "markdown",
   "metadata": {},
   "source": [
    "<a id=\"2\"></a>\n",
    "# <div style=\"box-shadow: rgba(0, 0, 0, 0.16) 0px 1px 4px inset, rgb(51, 51, 51) 0px 0px 0px 3px inset; padding:20px; font-size:32px; font-family: consolas; text-align:center; display:fill; border-radius:15px;  color:rgb(34, 34, 34);\"> <b> 2. Overview availiable csv files </b></div>"
   ]
  },
  {
   "cell_type": "markdown",
   "metadata": {},
   "source": [
    "<a id=\"2.1\"></a>\n",
    "## <div style=\"box-shadow: rgba(0, 0, 0, 0.18) 0px 2px 4px inset; padding:20px; font-size:24px; font-family: consolas; text-align:center; display:fill; border-radius:15px; color:rgb(67, 66, 66)\"> <b> 2.1 Overview <i>tdcsfog_metadata.csv</i> file</b></div>"
   ]
  },
  {
   "cell_type": "markdown",
   "metadata": {},
   "source": [
    "<p style=\"font-family: consolas; font-size: 16px;\">⚪ <b>tdcsfog_metadata.csv</b> Identifies each series in the <code>tdcsfog</code> dataset by a unique <code>Subject, Visit, Test, Medication</code> condition.</p>\n",
    "\n",
    "* <p style=\"font-family: consolas; font-size: 16px;\"><code>Visit</code> Lab visits consist of a baseline assessment, two post-treatment assessments for different treatment stages, and one follow-up assessment.</p>\n",
    "* <p style=\"font-family: consolas; font-size: 16px;\"><code>Test</code> Which of three test types was performed, with 3 the most challenging.</p>\n",
    "* <p style=\"font-family: consolas; font-size: 16px;\"><code>Medication</code> Subjects may have been either off or on anti-parkinsonian medication during the recording.</p>"
   ]
  },
  {
   "cell_type": "markdown",
   "metadata": {},
   "source": [
    "<p style=\"font-family: consolas; font-size: 16px;\">❔ How the data looks like.</p>"
   ]
  },
  {
   "cell_type": "code",
   "execution_count": null,
   "metadata": {
    "execution": {
     "iopub.execute_input": "2023-03-12T12:23:06.236926Z",
     "iopub.status.busy": "2023-03-12T12:23:06.236359Z",
     "iopub.status.idle": "2023-03-12T12:23:06.250948Z",
     "shell.execute_reply": "2023-03-12T12:23:06.249626Z",
     "shell.execute_reply.started": "2023-03-12T12:23:06.236875Z"
    }
   },
   "outputs": [],
   "source": [
    "tdcsfog_metadata_df = pd.read_csv(\"/kaggle/input/tlvmc-parkinsons-freezing-gait-prediction/tdcsfog_metadata.csv\")"
   ]
  },
  {
   "cell_type": "code",
   "execution_count": null,
   "metadata": {
    "execution": {
     "iopub.execute_input": "2023-03-12T12:23:06.2643Z",
     "iopub.status.busy": "2023-03-12T12:23:06.26282Z",
     "iopub.status.idle": "2023-03-12T12:23:06.279075Z",
     "shell.execute_reply": "2023-03-12T12:23:06.277841Z",
     "shell.execute_reply.started": "2023-03-12T12:23:06.264242Z"
    }
   },
   "outputs": [],
   "source": [
    "tdcsfog_metadata_df.head()"
   ]
  },
  {
   "cell_type": "code",
   "execution_count": null,
   "metadata": {
    "execution": {
     "iopub.execute_input": "2023-03-12T12:23:06.282115Z",
     "iopub.status.busy": "2023-03-12T12:23:06.281005Z",
     "iopub.status.idle": "2023-03-12T12:23:06.306217Z",
     "shell.execute_reply": "2023-03-12T12:23:06.304694Z",
     "shell.execute_reply.started": "2023-03-12T12:23:06.28206Z"
    }
   },
   "outputs": [],
   "source": [
    "tdcsfog_metadata_df.describe()"
   ]
  },
  {
   "cell_type": "markdown",
   "metadata": {},
   "source": [
    "<p style=\"font-family: consolas; font-size: 16px;\">❔ What is length of the dataframe.</p>"
   ]
  },
  {
   "cell_type": "code",
   "execution_count": null,
   "metadata": {
    "execution": {
     "iopub.execute_input": "2023-03-12T12:23:06.309345Z",
     "iopub.status.busy": "2023-03-12T12:23:06.308783Z",
     "iopub.status.idle": "2023-03-12T12:23:06.317741Z",
     "shell.execute_reply": "2023-03-12T12:23:06.315938Z",
     "shell.execute_reply.started": "2023-03-12T12:23:06.309293Z"
    }
   },
   "outputs": [],
   "source": [
    "temp = len(tdcsfog_metadata_df)\n",
    "print(\n",
    "    f\"Length of the tdcsfog_metadata.csv file is: {color.BLUE}{temp}{color.END}\",\n",
    ")"
   ]
  },
  {
   "cell_type": "markdown",
   "metadata": {},
   "source": [
    "<p style=\"font-family: consolas; font-size: 16px;\">❔ How many unique subjects the dataframe has.</p>"
   ]
  },
  {
   "cell_type": "code",
   "execution_count": null,
   "metadata": {
    "execution": {
     "iopub.execute_input": "2023-03-12T12:23:06.319944Z",
     "iopub.status.busy": "2023-03-12T12:23:06.319551Z",
     "iopub.status.idle": "2023-03-12T12:23:06.335604Z",
     "shell.execute_reply": "2023-03-12T12:23:06.334312Z",
     "shell.execute_reply.started": "2023-03-12T12:23:06.319909Z"
    }
   },
   "outputs": [],
   "source": [
    "temp = len(tdcsfog_metadata_df.Subject.unique())\n",
    "print(\n",
    "    f\"Number of unique subjects: {color.BLUE}{temp}{color.END}\",\n",
    ")"
   ]
  },
  {
   "cell_type": "markdown",
   "metadata": {},
   "source": [
    "<p style=\"font-family: consolas; font-size: 16px;\">❔ How the data for an unique subject looks like.</p>"
   ]
  },
  {
   "cell_type": "code",
   "execution_count": null,
   "metadata": {
    "execution": {
     "iopub.execute_input": "2023-03-12T12:23:06.338642Z",
     "iopub.status.busy": "2023-03-12T12:23:06.338152Z",
     "iopub.status.idle": "2023-03-12T12:23:06.359168Z",
     "shell.execute_reply": "2023-03-12T12:23:06.357815Z",
     "shell.execute_reply.started": "2023-03-12T12:23:06.338602Z"
    }
   },
   "outputs": [],
   "source": [
    "unique_subject_id = \"13abfd\"\n",
    "tdcsfog_metadata_df[tdcsfog_metadata_df.Subject == unique_subject_id]"
   ]
  },
  {
   "cell_type": "markdown",
   "metadata": {},
   "source": [
    "<p style=\"font-family: consolas; font-size: 16px;\">❔ Is there any missing data in the dataframe.</p>"
   ]
  },
  {
   "cell_type": "code",
   "execution_count": null,
   "metadata": {
    "execution": {
     "iopub.execute_input": "2023-03-12T12:23:06.361449Z",
     "iopub.status.busy": "2023-03-12T12:23:06.360981Z",
     "iopub.status.idle": "2023-03-12T12:23:06.371829Z",
     "shell.execute_reply": "2023-03-12T12:23:06.370658Z",
     "shell.execute_reply.started": "2023-03-12T12:23:06.361391Z"
    }
   },
   "outputs": [],
   "source": [
    "tdcsfog_metadata_df.isnull().sum()"
   ]
  },
  {
   "cell_type": "markdown",
   "metadata": {},
   "source": [
    "<p style=\"font-family: consolas; font-size: 16px;\">❔ How the bar chart looks like for categorical field <code>Visit</code>.</p>"
   ]
  },
  {
   "cell_type": "code",
   "execution_count": null,
   "metadata": {
    "execution": {
     "iopub.execute_input": "2023-03-12T13:11:51.84176Z",
     "iopub.status.busy": "2023-03-12T13:11:51.839998Z",
     "iopub.status.idle": "2023-03-12T13:11:51.915633Z",
     "shell.execute_reply": "2023-03-12T13:11:51.914044Z",
     "shell.execute_reply.started": "2023-03-12T13:11:51.841678Z"
    }
   },
   "outputs": [],
   "source": [
    "tdcsfog_visit_counts = tdcsfog_metadata_df.Visit.value_counts()\n",
    "\n",
    "fig = px.bar(x=tdcsfog_visit_counts.index, y=tdcsfog_visit_counts.values, color_discrete_sequence=['darkgreen'])\n",
    "fig.update_layout(xaxis_title=\"Visit\", yaxis_title=\"Count\")\n",
    "fig.show()"
   ]
  },
  {
   "cell_type": "markdown",
   "metadata": {},
   "source": [
    "<p style=\"font-family: consolas; font-size: 16px;\">❔ How the bar chart looks like for categorical field <code>Test</code>.</p>"
   ]
  },
  {
   "cell_type": "code",
   "execution_count": null,
   "metadata": {
    "execution": {
     "iopub.execute_input": "2023-03-12T13:11:58.368269Z",
     "iopub.status.busy": "2023-03-12T13:11:58.367804Z",
     "iopub.status.idle": "2023-03-12T13:11:58.436694Z",
     "shell.execute_reply": "2023-03-12T13:11:58.435133Z",
     "shell.execute_reply.started": "2023-03-12T13:11:58.368231Z"
    }
   },
   "outputs": [],
   "source": [
    "tdcsfog_test_counts = tdcsfog_metadata_df.Test.value_counts()\n",
    "\n",
    "fig = px.bar(x=tdcsfog_test_counts.index, y=tdcsfog_test_counts.values, color_discrete_sequence=['darkgreen'])\n",
    "fig.update_layout(xaxis_title=\"Test\", yaxis_title=\"Count\")\n",
    "fig.show()"
   ]
  },
  {
   "cell_type": "markdown",
   "metadata": {},
   "source": [
    "<p style=\"font-family: consolas; font-size: 16px;\">❔ How the bar chart looks like for categorical field <code>Medication</code>.</p>"
   ]
  },
  {
   "cell_type": "code",
   "execution_count": null,
   "metadata": {
    "execution": {
     "iopub.execute_input": "2023-03-12T13:12:02.086599Z",
     "iopub.status.busy": "2023-03-12T13:12:02.085291Z",
     "iopub.status.idle": "2023-03-12T13:12:02.158996Z",
     "shell.execute_reply": "2023-03-12T13:12:02.157304Z",
     "shell.execute_reply.started": "2023-03-12T13:12:02.086542Z"
    }
   },
   "outputs": [],
   "source": [
    "tdcsfog_medication_counts = tdcsfog_metadata_df.Medication.value_counts()\n",
    "\n",
    "fig = px.bar(x=tdcsfog_medication_counts.index, y=tdcsfog_medication_counts.values, color_discrete_sequence=['darkgreen'])\n",
    "fig.update_layout(xaxis_title=\"Medication\", yaxis_title=\"Count\")\n",
    "fig.show()"
   ]
  },
  {
   "cell_type": "markdown",
   "metadata": {},
   "source": [
    "<a id=\"2.2\"></a>\n",
    "## <div style=\"box-shadow: rgba(0, 0, 0, 0.18) 0px 2px 4px inset; padding:20px; font-size:24px; font-family: consolas; text-align:center; display:fill; border-radius:15px; color:rgb(67, 66, 66)\"> <b> 2.2 Overview <i>defog_metadata.csv</i> file</b></div>"
   ]
  },
  {
   "cell_type": "markdown",
   "metadata": {},
   "source": [
    "<p style=\"font-family: consolas; font-size: 16px;\">⚪ <b>defog_metadata.csv</b> Identifies each series in the <code>defog</code> dataset by a unique <code>Subject, Visit, Medication</code> condition.</p>"
   ]
  },
  {
   "cell_type": "markdown",
   "metadata": {},
   "source": [
    "<p style=\"font-family: consolas; font-size: 16px;\">❔ How the data looks like.</p>"
   ]
  },
  {
   "cell_type": "code",
   "execution_count": null,
   "metadata": {
    "execution": {
     "iopub.execute_input": "2023-03-12T12:23:06.873288Z",
     "iopub.status.busy": "2023-03-12T12:23:06.872585Z",
     "iopub.status.idle": "2023-03-12T12:23:06.884977Z",
     "shell.execute_reply": "2023-03-12T12:23:06.8834Z",
     "shell.execute_reply.started": "2023-03-12T12:23:06.87325Z"
    }
   },
   "outputs": [],
   "source": [
    "defog_metadata_df = pd.read_csv(\"/kaggle/input/tlvmc-parkinsons-freezing-gait-prediction/defog_metadata.csv\")"
   ]
  },
  {
   "cell_type": "code",
   "execution_count": null,
   "metadata": {
    "execution": {
     "iopub.execute_input": "2023-03-12T12:23:06.888228Z",
     "iopub.status.busy": "2023-03-12T12:23:06.886849Z",
     "iopub.status.idle": "2023-03-12T12:23:06.901258Z",
     "shell.execute_reply": "2023-03-12T12:23:06.899897Z",
     "shell.execute_reply.started": "2023-03-12T12:23:06.888184Z"
    }
   },
   "outputs": [],
   "source": [
    "defog_metadata_df.head()"
   ]
  },
  {
   "cell_type": "markdown",
   "metadata": {},
   "source": [
    "<p style=\"font-family: consolas; font-size: 16px;\">❔ Is there any missing data.</p>"
   ]
  },
  {
   "cell_type": "code",
   "execution_count": null,
   "metadata": {
    "execution": {
     "iopub.execute_input": "2023-03-12T12:23:06.904306Z",
     "iopub.status.busy": "2023-03-12T12:23:06.903739Z",
     "iopub.status.idle": "2023-03-12T12:23:06.91488Z",
     "shell.execute_reply": "2023-03-12T12:23:06.913361Z",
     "shell.execute_reply.started": "2023-03-12T12:23:06.904255Z"
    }
   },
   "outputs": [],
   "source": [
    "defog_metadata_df.isnull().sum()"
   ]
  },
  {
   "cell_type": "markdown",
   "metadata": {},
   "source": [
    "<p style=\"font-family: consolas; font-size: 16px;\">❔ What is length of the dataframe.</p>"
   ]
  },
  {
   "cell_type": "code",
   "execution_count": null,
   "metadata": {
    "execution": {
     "iopub.execute_input": "2023-03-12T12:23:06.917632Z",
     "iopub.status.busy": "2023-03-12T12:23:06.917118Z",
     "iopub.status.idle": "2023-03-12T12:23:06.92706Z",
     "shell.execute_reply": "2023-03-12T12:23:06.925217Z",
     "shell.execute_reply.started": "2023-03-12T12:23:06.917582Z"
    }
   },
   "outputs": [],
   "source": [
    "temp = len(defog_metadata_df)\n",
    "print(\n",
    "    f\"Length of the defog_metadata.csv file is: {color.BLUE}{temp}{color.END}\",\n",
    ")"
   ]
  },
  {
   "cell_type": "code",
   "execution_count": null,
   "metadata": {
    "execution": {
     "iopub.execute_input": "2023-03-12T12:23:06.929394Z",
     "iopub.status.busy": "2023-03-12T12:23:06.929021Z",
     "iopub.status.idle": "2023-03-12T12:23:06.950776Z",
     "shell.execute_reply": "2023-03-12T12:23:06.949511Z",
     "shell.execute_reply.started": "2023-03-12T12:23:06.929357Z"
    }
   },
   "outputs": [],
   "source": [
    "temp = len(defog_metadata_df.Subject.unique())\n",
    "print(\n",
    "    f\"Number of unique subjects: {color.BLUE}{temp}{color.END}\",\n",
    ")"
   ]
  },
  {
   "cell_type": "markdown",
   "metadata": {},
   "source": [
    "<p style=\"font-family: consolas; font-size: 16px;\">❔ How the data for an unique subject looks like.</p>"
   ]
  },
  {
   "cell_type": "code",
   "execution_count": null,
   "metadata": {
    "execution": {
     "iopub.execute_input": "2023-03-12T12:23:06.952487Z",
     "iopub.status.busy": "2023-03-12T12:23:06.95213Z",
     "iopub.status.idle": "2023-03-12T12:23:06.970155Z",
     "shell.execute_reply": "2023-03-12T12:23:06.968459Z",
     "shell.execute_reply.started": "2023-03-12T12:23:06.952415Z"
    }
   },
   "outputs": [],
   "source": [
    "unique_subject_id = \"bf608b\"\n",
    "defog_metadata_df[defog_metadata_df.Subject == unique_subject_id]"
   ]
  },
  {
   "cell_type": "markdown",
   "metadata": {},
   "source": [
    "<p style=\"font-family: consolas; font-size: 16px;\">❔ How the bar chart looks like for categorical field <code>Visit</code>.</p>"
   ]
  },
  {
   "cell_type": "code",
   "execution_count": null,
   "metadata": {
    "execution": {
     "iopub.execute_input": "2023-03-12T13:12:23.788936Z",
     "iopub.status.busy": "2023-03-12T13:12:23.788453Z",
     "iopub.status.idle": "2023-03-12T13:12:23.860478Z",
     "shell.execute_reply": "2023-03-12T13:12:23.858842Z",
     "shell.execute_reply.started": "2023-03-12T13:12:23.788897Z"
    }
   },
   "outputs": [],
   "source": [
    "defog_visit_counts = defog_metadata_df.Visit.value_counts()\n",
    "\n",
    "fig = px.bar(x=defog_visit_counts.index, y=defog_visit_counts.values, color_discrete_sequence=['darkslateblue'])\n",
    "fig.update_layout(xaxis_title=\"Visit\", yaxis_title=\"Count\")\n",
    "fig.show()"
   ]
  },
  {
   "cell_type": "markdown",
   "metadata": {},
   "source": [
    "<p style=\"font-family: consolas; font-size: 16px;\">❔ How the bar chart looks like for categorical field <code>Medication</code>.</p>"
   ]
  },
  {
   "cell_type": "code",
   "execution_count": null,
   "metadata": {
    "execution": {
     "iopub.execute_input": "2023-03-12T13:12:28.953195Z",
     "iopub.status.busy": "2023-03-12T13:12:28.952762Z",
     "iopub.status.idle": "2023-03-12T13:12:29.026823Z",
     "shell.execute_reply": "2023-03-12T13:12:29.025511Z",
     "shell.execute_reply.started": "2023-03-12T13:12:28.95316Z"
    }
   },
   "outputs": [],
   "source": [
    "defog_medication_counts = defog_metadata_df.Medication.value_counts()\n",
    "\n",
    "fig = px.bar(x=defog_medication_counts.index, y=defog_medication_counts.values, color_discrete_sequence=['darkslateblue'])\n",
    "fig.update_layout(xaxis_title=\"Medication\", yaxis_title=\"Count\")\n",
    "fig.show()"
   ]
  },
  {
   "cell_type": "markdown",
   "metadata": {},
   "source": [
    "<a id=\"2.3\"></a>\n",
    "## <div style=\"box-shadow: rgba(0, 0, 0, 0.18) 0px 2px 4px inset; padding:20px; font-size:24px; font-family: consolas; text-align:center; display:fill; border-radius:15px; color:rgb(67, 66, 66)\"> <b> 2.3 Overview <i>daily_metadata.csv</i> file</b></div>"
   ]
  },
  {
   "cell_type": "markdown",
   "metadata": {},
   "source": [
    "<p style=\"font-family: consolas; font-size: 16px;\">⚪ <b>daily_metadata.csv</b> Each series in the <code>daily</code> dataset is identified by the <code>Subject</code> id. This file also contains the time of day the recording began.</p>"
   ]
  },
  {
   "cell_type": "markdown",
   "metadata": {},
   "source": [
    "<p style=\"font-family: consolas; font-size: 16px;\">❔ How the data looks like.</p>"
   ]
  },
  {
   "cell_type": "code",
   "execution_count": null,
   "metadata": {
    "execution": {
     "iopub.execute_input": "2023-03-12T12:23:07.112826Z",
     "iopub.status.busy": "2023-03-12T12:23:07.111973Z",
     "iopub.status.idle": "2023-03-12T12:23:07.124896Z",
     "shell.execute_reply": "2023-03-12T12:23:07.123339Z",
     "shell.execute_reply.started": "2023-03-12T12:23:07.112781Z"
    }
   },
   "outputs": [],
   "source": [
    "daily_metadata_df = pd.read_csv(\"/kaggle/input/tlvmc-parkinsons-freezing-gait-prediction/daily_metadata.csv\")"
   ]
  },
  {
   "cell_type": "code",
   "execution_count": null,
   "metadata": {
    "execution": {
     "iopub.execute_input": "2023-03-12T12:23:07.126896Z",
     "iopub.status.busy": "2023-03-12T12:23:07.1265Z",
     "iopub.status.idle": "2023-03-12T12:23:07.14112Z",
     "shell.execute_reply": "2023-03-12T12:23:07.139747Z",
     "shell.execute_reply.started": "2023-03-12T12:23:07.126815Z"
    }
   },
   "outputs": [],
   "source": [
    "daily_metadata_df.head()"
   ]
  },
  {
   "cell_type": "markdown",
   "metadata": {},
   "source": [
    "<p style=\"font-family: consolas; font-size: 16px;\">❔ Is there any missing data.</p>"
   ]
  },
  {
   "cell_type": "code",
   "execution_count": null,
   "metadata": {
    "execution": {
     "iopub.execute_input": "2023-03-12T12:23:07.142655Z",
     "iopub.status.busy": "2023-03-12T12:23:07.142301Z",
     "iopub.status.idle": "2023-03-12T12:23:07.152992Z",
     "shell.execute_reply": "2023-03-12T12:23:07.151478Z",
     "shell.execute_reply.started": "2023-03-12T12:23:07.142623Z"
    }
   },
   "outputs": [],
   "source": [
    "daily_metadata_df.isnull().sum()"
   ]
  },
  {
   "cell_type": "markdown",
   "metadata": {},
   "source": [
    "<p style=\"font-family: consolas; font-size: 16px;\">❔ What is length of the dataframe.</p>"
   ]
  },
  {
   "cell_type": "code",
   "execution_count": null,
   "metadata": {
    "execution": {
     "iopub.execute_input": "2023-03-12T12:23:07.155796Z",
     "iopub.status.busy": "2023-03-12T12:23:07.155311Z",
     "iopub.status.idle": "2023-03-12T12:23:07.163864Z",
     "shell.execute_reply": "2023-03-12T12:23:07.162247Z",
     "shell.execute_reply.started": "2023-03-12T12:23:07.155748Z"
    }
   },
   "outputs": [],
   "source": [
    "temp = len(daily_metadata_df)\n",
    "print(\n",
    "    f\"Length of the daily_metadata.csv file is: {color.BLUE}{temp}{color.END}\",\n",
    ")"
   ]
  },
  {
   "cell_type": "code",
   "execution_count": null,
   "metadata": {
    "execution": {
     "iopub.execute_input": "2023-03-12T12:23:07.166635Z",
     "iopub.status.busy": "2023-03-12T12:23:07.166147Z",
     "iopub.status.idle": "2023-03-12T12:23:07.177601Z",
     "shell.execute_reply": "2023-03-12T12:23:07.175976Z",
     "shell.execute_reply.started": "2023-03-12T12:23:07.166592Z"
    }
   },
   "outputs": [],
   "source": [
    "temp = len(daily_metadata_df.Subject.unique())\n",
    "print(\n",
    "    f\"Number of unique subjects: {color.BLUE}{temp}{color.END}\",\n",
    ")"
   ]
  },
  {
   "cell_type": "markdown",
   "metadata": {},
   "source": [
    "<p style=\"font-family: consolas; font-size: 16px;\">❔ How the bar chart looks like for categorical field <code>Visit</code>.</p>"
   ]
  },
  {
   "cell_type": "code",
   "execution_count": null,
   "metadata": {
    "execution": {
     "iopub.execute_input": "2023-03-12T13:12:48.710714Z",
     "iopub.status.busy": "2023-03-12T13:12:48.710211Z",
     "iopub.status.idle": "2023-03-12T13:12:48.777653Z",
     "shell.execute_reply": "2023-03-12T13:12:48.77645Z",
     "shell.execute_reply.started": "2023-03-12T13:12:48.710664Z"
    }
   },
   "outputs": [],
   "source": [
    "daily_visit_counts = daily_metadata_df.Visit.value_counts()\n",
    "\n",
    "fig = px.bar(x=daily_visit_counts.index, y=daily_visit_counts.values, color_discrete_sequence=['cornflowerblue'])\n",
    "fig.update_layout(xaxis_title=\"Visit\", yaxis_title=\"Count\")\n",
    "fig.show()"
   ]
  },
  {
   "cell_type": "markdown",
   "metadata": {},
   "source": [
    "<p style=\"font-family: consolas; font-size: 16px;\">❔ How the bar chart looks like for the field <code>Beginning of recording</code>.</p>"
   ]
  },
  {
   "cell_type": "code",
   "execution_count": null,
   "metadata": {
    "execution": {
     "iopub.execute_input": "2023-03-12T13:12:56.649012Z",
     "iopub.status.busy": "2023-03-12T13:12:56.64786Z",
     "iopub.status.idle": "2023-03-12T13:12:56.717876Z",
     "shell.execute_reply": "2023-03-12T13:12:56.716465Z",
     "shell.execute_reply.started": "2023-03-12T13:12:56.648941Z"
    }
   },
   "outputs": [],
   "source": [
    "daily_bor_counts = daily_metadata_df[\"Beginning of recording [00:00-23:59]\"].value_counts()\n",
    "\n",
    "fig = px.bar(x=daily_bor_counts.index, y=daily_bor_counts.values, color_discrete_sequence=['cornflowerblue'])\n",
    "fig.update_layout(xaxis_title=\"Beginning of recording\", yaxis_title=\"Count\")\n",
    "fig.show()"
   ]
  },
  {
   "cell_type": "markdown",
   "metadata": {},
   "source": [
    "<a id=\"2.4\"></a>\n",
    "## <div style=\"box-shadow: rgba(0, 0, 0, 0.18) 0px 2px 4px inset; padding:20px; font-size:24px; font-family: consolas; text-align:center; display:fill; border-radius:15px; color:rgb(67, 66, 66)\"> <b> 2.4 Overview <i>subjects.csv</i> file</b></div>"
   ]
  },
  {
   "cell_type": "markdown",
   "metadata": {},
   "source": [
    "<p style=\"font-family: consolas; font-size: 16px;\">⚪ <b>subjects.csv</b> Metadata for each <code>Subject</code> in the study, including their <code>Age</code> and <code>Sex</code> as well as:</p>\n",
    "\n",
    "* <p style=\"font-family: consolas; font-size: 16px;\"><code>Visit</code> Only available for subjects in the daily and defog datasets.</p>\n",
    "* <p style=\"font-family: consolas; font-size: 16px;\"><code>YearsSinceDx</code> Years since Parkinson's diagnosis.</p>\n",
    "* <p style=\"font-family: consolas; font-size: 16px;\"><code>UPDRSIIIOn</code>/<code>UPDRSIIIOff</code> Unified Parkinson's Disease Rating Scale score during on/off medication respectively.</p>\n",
    "* <p style=\"font-family: consolas; font-size: 16px;\"><code>NFOGQ</code> Self-report <a href=\"https://pubmed.ncbi.nlm.nih.gov/19660949/\"><strong>FoG questionnaire score</strong></a>.</p>"
   ]
  },
  {
   "cell_type": "markdown",
   "metadata": {},
   "source": [
    "<p style=\"font-family: consolas; font-size: 16px;\">❔ How the data looks like.</p>"
   ]
  },
  {
   "cell_type": "code",
   "execution_count": null,
   "metadata": {
    "execution": {
     "iopub.execute_input": "2023-03-12T12:23:07.319329Z",
     "iopub.status.busy": "2023-03-12T12:23:07.318277Z",
     "iopub.status.idle": "2023-03-12T12:23:07.331168Z",
     "shell.execute_reply": "2023-03-12T12:23:07.329678Z",
     "shell.execute_reply.started": "2023-03-12T12:23:07.319291Z"
    }
   },
   "outputs": [],
   "source": [
    "subjects_df = pd.read_csv(\"/kaggle/input/tlvmc-parkinsons-freezing-gait-prediction/subjects.csv\")"
   ]
  },
  {
   "cell_type": "code",
   "execution_count": null,
   "metadata": {
    "execution": {
     "iopub.execute_input": "2023-03-12T12:23:07.333674Z",
     "iopub.status.busy": "2023-03-12T12:23:07.333108Z",
     "iopub.status.idle": "2023-03-12T12:23:07.354435Z",
     "shell.execute_reply": "2023-03-12T12:23:07.352282Z",
     "shell.execute_reply.started": "2023-03-12T12:23:07.33362Z"
    }
   },
   "outputs": [],
   "source": [
    "subjects_df.head()"
   ]
  },
  {
   "cell_type": "markdown",
   "metadata": {},
   "source": [
    "<p style=\"font-family: consolas; font-size: 16px;\">❔ Is there any missing data.</p>"
   ]
  },
  {
   "cell_type": "code",
   "execution_count": null,
   "metadata": {
    "execution": {
     "iopub.execute_input": "2023-03-12T12:23:07.35662Z",
     "iopub.status.busy": "2023-03-12T12:23:07.356198Z",
     "iopub.status.idle": "2023-03-12T12:23:07.370575Z",
     "shell.execute_reply": "2023-03-12T12:23:07.368912Z",
     "shell.execute_reply.started": "2023-03-12T12:23:07.356581Z"
    }
   },
   "outputs": [],
   "source": [
    "subjects_df.isnull().sum()"
   ]
  },
  {
   "cell_type": "markdown",
   "metadata": {},
   "source": [
    "<p style=\"font-family: consolas; font-size: 16px;\">❔ What is length of the dataframe.</p>"
   ]
  },
  {
   "cell_type": "code",
   "execution_count": null,
   "metadata": {
    "execution": {
     "iopub.execute_input": "2023-03-12T12:23:07.37263Z",
     "iopub.status.busy": "2023-03-12T12:23:07.372175Z",
     "iopub.status.idle": "2023-03-12T12:23:07.38127Z",
     "shell.execute_reply": "2023-03-12T12:23:07.379997Z",
     "shell.execute_reply.started": "2023-03-12T12:23:07.372568Z"
    }
   },
   "outputs": [],
   "source": [
    "temp = len(subjects_df)\n",
    "print(\n",
    "    f\"Length of the subjects.csv file is: {color.BLUE}{temp}{color.END}\",\n",
    ")"
   ]
  },
  {
   "cell_type": "code",
   "execution_count": null,
   "metadata": {
    "execution": {
     "iopub.execute_input": "2023-03-12T12:23:07.385321Z",
     "iopub.status.busy": "2023-03-12T12:23:07.384459Z",
     "iopub.status.idle": "2023-03-12T12:23:07.393898Z",
     "shell.execute_reply": "2023-03-12T12:23:07.392008Z",
     "shell.execute_reply.started": "2023-03-12T12:23:07.385276Z"
    }
   },
   "outputs": [],
   "source": [
    "temp = len(subjects_df.Subject.unique())\n",
    "print(\n",
    "    f\"Number of unique subjects: {color.BLUE}{temp}{color.END}\",\n",
    ")"
   ]
  },
  {
   "cell_type": "markdown",
   "metadata": {},
   "source": [
    "<p style=\"font-family: consolas; font-size: 16px;\">❔ How the bar chart looks like for categorical field <code>Visit</code>.</p>"
   ]
  },
  {
   "cell_type": "code",
   "execution_count": null,
   "metadata": {
    "execution": {
     "iopub.execute_input": "2023-03-12T13:13:17.610042Z",
     "iopub.status.busy": "2023-03-12T13:13:17.609643Z",
     "iopub.status.idle": "2023-03-12T13:13:17.679297Z",
     "shell.execute_reply": "2023-03-12T13:13:17.677823Z",
     "shell.execute_reply.started": "2023-03-12T13:13:17.61001Z"
    }
   },
   "outputs": [],
   "source": [
    "subjects_visit_counts = subjects_df.Visit.value_counts()\n",
    "\n",
    "fig = px.bar(x=subjects_visit_counts.index, y=subjects_visit_counts.values, color_discrete_sequence=['goldenrod'])\n",
    "fig.update_layout(xaxis_title=\"Visit\", yaxis_title=\"Count\")\n",
    "fig.show()"
   ]
  },
  {
   "cell_type": "markdown",
   "metadata": {},
   "source": [
    "<p style=\"font-family: consolas; font-size: 16px;\">❔ What is the distibution of the field <code>Age</code>.</p>"
   ]
  },
  {
   "cell_type": "code",
   "execution_count": null,
   "metadata": {
    "execution": {
     "iopub.execute_input": "2023-03-12T13:13:24.083633Z",
     "iopub.status.busy": "2023-03-12T13:13:24.083035Z",
     "iopub.status.idle": "2023-03-12T13:13:24.156767Z",
     "shell.execute_reply": "2023-03-12T13:13:24.155298Z",
     "shell.execute_reply.started": "2023-03-12T13:13:24.083584Z"
    }
   },
   "outputs": [],
   "source": [
    "fig = px.histogram(subjects_df, x=\"Age\", nbins=30, color_discrete_sequence=['goldenrod'])\n",
    "fig.show()"
   ]
  },
  {
   "cell_type": "markdown",
   "metadata": {},
   "source": [
    "<p style=\"font-family: consolas; font-size: 16px;\">❔ How the bar chart looks like for categorical field <code>Sex</code>.</p>"
   ]
  },
  {
   "cell_type": "code",
   "execution_count": null,
   "metadata": {
    "execution": {
     "iopub.execute_input": "2023-03-12T13:13:26.913342Z",
     "iopub.status.busy": "2023-03-12T13:13:26.91275Z",
     "iopub.status.idle": "2023-03-12T13:13:27.003321Z",
     "shell.execute_reply": "2023-03-12T13:13:27.001602Z",
     "shell.execute_reply.started": "2023-03-12T13:13:26.913291Z"
    }
   },
   "outputs": [],
   "source": [
    "subjects_sex_counts = subjects_df.Sex.value_counts()\n",
    "\n",
    "fig = px.bar(x=subjects_sex_counts.index, y=subjects_sex_counts.values, color_discrete_sequence=['goldenrod'])\n",
    "fig.update_layout(xaxis_title=\"Sex\", yaxis_title=\"Count\")\n",
    "fig.show()"
   ]
  },
  {
   "cell_type": "markdown",
   "metadata": {},
   "source": [
    "<p style=\"font-family: consolas; font-size: 16px;\">❔ What is the distibution of the field <code>YearsSinceDx</code>.</p>"
   ]
  },
  {
   "cell_type": "code",
   "execution_count": null,
   "metadata": {
    "execution": {
     "iopub.execute_input": "2023-03-12T13:13:29.343547Z",
     "iopub.status.busy": "2023-03-12T13:13:29.343135Z",
     "iopub.status.idle": "2023-03-12T13:13:29.408201Z",
     "shell.execute_reply": "2023-03-12T13:13:29.407249Z",
     "shell.execute_reply.started": "2023-03-12T13:13:29.343512Z"
    }
   },
   "outputs": [],
   "source": [
    "fig = px.histogram(subjects_df, x=\"YearsSinceDx\", nbins=30, color_discrete_sequence=['goldenrod'])\n",
    "fig.show()"
   ]
  },
  {
   "cell_type": "markdown",
   "metadata": {},
   "source": [
    "<p style=\"font-family: consolas; font-size: 16px;\">❔ What is the distibution of the field <code>UPDRSIII_On</code>.</p>"
   ]
  },
  {
   "cell_type": "code",
   "execution_count": null,
   "metadata": {
    "execution": {
     "iopub.execute_input": "2023-03-12T13:13:31.969955Z",
     "iopub.status.busy": "2023-03-12T13:13:31.96923Z",
     "iopub.status.idle": "2023-03-12T13:13:32.036698Z",
     "shell.execute_reply": "2023-03-12T13:13:32.035392Z",
     "shell.execute_reply.started": "2023-03-12T13:13:31.969912Z"
    }
   },
   "outputs": [],
   "source": [
    "fig = px.histogram(subjects_df, x=\"UPDRSIII_On\", nbins=30, color_discrete_sequence=['goldenrod'])\n",
    "fig.show()"
   ]
  },
  {
   "cell_type": "markdown",
   "metadata": {},
   "source": [
    "<p style=\"font-family: consolas; font-size: 16px;\">❔ What is the distibution of the field <code>NFOGQ</code>.</p>"
   ]
  },
  {
   "cell_type": "code",
   "execution_count": null,
   "metadata": {
    "execution": {
     "iopub.execute_input": "2023-03-12T13:13:34.808764Z",
     "iopub.status.busy": "2023-03-12T13:13:34.808255Z",
     "iopub.status.idle": "2023-03-12T13:13:34.874136Z",
     "shell.execute_reply": "2023-03-12T13:13:34.872705Z",
     "shell.execute_reply.started": "2023-03-12T13:13:34.808725Z"
    }
   },
   "outputs": [],
   "source": [
    "fig = px.histogram(subjects_df, x=\"NFOGQ\", nbins=20, color_discrete_sequence=['goldenrod'])\n",
    "fig.show()"
   ]
  },
  {
   "cell_type": "markdown",
   "metadata": {},
   "source": [
    "<p style=\"font-family: consolas; font-size: 16px;\">❔ How is the correlation matrix for the data looks like.</p>"
   ]
  },
  {
   "cell_type": "code",
   "execution_count": null,
   "metadata": {
    "execution": {
     "iopub.execute_input": "2023-03-12T12:23:07.850706Z",
     "iopub.status.busy": "2023-03-12T12:23:07.850293Z",
     "iopub.status.idle": "2023-03-12T12:23:07.912168Z",
     "shell.execute_reply": "2023-03-12T12:23:07.910414Z",
     "shell.execute_reply.started": "2023-03-12T12:23:07.850668Z"
    }
   },
   "outputs": [],
   "source": [
    "corr_mat = np.round(subjects_df.corr(), 3)\n",
    "\n",
    "fig = px.imshow(\n",
    "    corr_mat,\n",
    "    x=corr_mat.columns,\n",
    "    y=corr_mat.columns, \n",
    "    text_auto=True\n",
    "   )\n",
    "fig.update_xaxes(side=\"bottom\")\n",
    "fig.update_layout(\n",
    "    title={\n",
    "        'text': \"Correlation Matrix of sybjects features\",\n",
    "        'y':0.95,\n",
    "        'x':0.5,\n",
    "        'xanchor': 'center',\n",
    "        'yanchor': 'top'\n",
    "    }\n",
    ")\n",
    "\n",
    "fig.show()"
   ]
  },
  {
   "cell_type": "markdown",
   "metadata": {},
   "source": [
    "<a id=\"2.5\"></a>\n",
    "## <div style=\"box-shadow: rgba(0, 0, 0, 0.18) 0px 2px 4px inset; padding:20px; font-size:24px; font-family: consolas; text-align:center; display:fill; border-radius:15px; color:rgb(67, 66, 66)\"> <b> 2.5 Overview <i>events.csv</i> file</b></div>"
   ]
  },
  {
   "cell_type": "markdown",
   "metadata": {},
   "source": [
    "<p style=\"font-family: consolas; font-size: 16px;\">⚪ <b>events.csv</b> Metadata for each FoG event in all data series. The event times agree with the labels in the data series.</p>\n",
    "\n",
    "* <p style=\"font-family: consolas; font-size: 16px;\"><code>Visit</code> The data series the event occured in.</p>\n",
    "* <p style=\"font-family: consolas; font-size: 16px;\"><code>Init</code> Time (s) the event began.</p>\n",
    "* <p style=\"font-family: consolas; font-size: 16px;\"><code>Completion</code> Time (s) the event ended.</p>\n",
    "* <p style=\"font-family: consolas; font-size: 16px;\"><code>Type</code> Whether <code>StartHesitation</code>, <code>Turn</code>, or <code>Walking</code>.</p>\n",
    "* <p style=\"font-family: consolas; font-size: 16px;\"><code>Kinetic</code> Whether the event was kinetic (1) and involved movement, or akinetic (0) and static.</p>"
   ]
  },
  {
   "cell_type": "markdown",
   "metadata": {},
   "source": [
    "<p style=\"font-family: consolas; font-size: 16px;\">❔ How the data looks like.</p>"
   ]
  },
  {
   "cell_type": "code",
   "execution_count": null,
   "metadata": {
    "execution": {
     "iopub.execute_input": "2023-03-12T12:23:07.914459Z",
     "iopub.status.busy": "2023-03-12T12:23:07.913955Z",
     "iopub.status.idle": "2023-03-12T12:23:07.931763Z",
     "shell.execute_reply": "2023-03-12T12:23:07.9299Z",
     "shell.execute_reply.started": "2023-03-12T12:23:07.914403Z"
    }
   },
   "outputs": [],
   "source": [
    "events_df = pd.read_csv(\"/kaggle/input/tlvmc-parkinsons-freezing-gait-prediction/events.csv\")"
   ]
  },
  {
   "cell_type": "code",
   "execution_count": null,
   "metadata": {
    "execution": {
     "iopub.execute_input": "2023-03-12T12:23:07.933966Z",
     "iopub.status.busy": "2023-03-12T12:23:07.933563Z",
     "iopub.status.idle": "2023-03-12T12:23:07.952135Z",
     "shell.execute_reply": "2023-03-12T12:23:07.95021Z",
     "shell.execute_reply.started": "2023-03-12T12:23:07.933929Z"
    }
   },
   "outputs": [],
   "source": [
    "events_df.head()"
   ]
  },
  {
   "cell_type": "markdown",
   "metadata": {},
   "source": [
    "<p style=\"font-family: consolas; font-size: 16px;\">❔ What is length of the dataframe.</p>"
   ]
  },
  {
   "cell_type": "code",
   "execution_count": null,
   "metadata": {
    "execution": {
     "iopub.execute_input": "2023-03-12T12:23:07.954128Z",
     "iopub.status.busy": "2023-03-12T12:23:07.95372Z",
     "iopub.status.idle": "2023-03-12T12:23:07.962992Z",
     "shell.execute_reply": "2023-03-12T12:23:07.961238Z",
     "shell.execute_reply.started": "2023-03-12T12:23:07.954064Z"
    }
   },
   "outputs": [],
   "source": [
    "temp = len(events_df)\n",
    "print(\n",
    "    f\"Length of the events.csv file is: {color.BLUE}{temp}{color.END}\",\n",
    ")"
   ]
  },
  {
   "cell_type": "markdown",
   "metadata": {},
   "source": [
    "<p style=\"font-family: consolas; font-size: 16px;\">❔ Is there any missing data.</p>"
   ]
  },
  {
   "cell_type": "code",
   "execution_count": null,
   "metadata": {
    "execution": {
     "iopub.execute_input": "2023-03-12T12:23:07.965694Z",
     "iopub.status.busy": "2023-03-12T12:23:07.965057Z",
     "iopub.status.idle": "2023-03-12T12:23:07.980136Z",
     "shell.execute_reply": "2023-03-12T12:23:07.978516Z",
     "shell.execute_reply.started": "2023-03-12T12:23:07.965652Z"
    }
   },
   "outputs": [],
   "source": [
    "events_df.isnull().sum()"
   ]
  },
  {
   "cell_type": "markdown",
   "metadata": {},
   "source": [
    "<p style=\"font-family: consolas; font-size: 16px;\">❔ What is the distibution of the field <code>Init</code>.</p>"
   ]
  },
  {
   "cell_type": "code",
   "execution_count": null,
   "metadata": {
    "execution": {
     "iopub.execute_input": "2023-03-12T12:23:07.982243Z",
     "iopub.status.busy": "2023-03-12T12:23:07.981856Z",
     "iopub.status.idle": "2023-03-12T12:23:08.048941Z",
     "shell.execute_reply": "2023-03-12T12:23:08.047456Z",
     "shell.execute_reply.started": "2023-03-12T12:23:07.982211Z"
    }
   },
   "outputs": [],
   "source": [
    "fig = px.histogram(events_df, x=\"Init\", nbins=50)\n",
    "fig.show()"
   ]
  },
  {
   "cell_type": "markdown",
   "metadata": {},
   "source": [
    "<p style=\"font-family: consolas; font-size: 16px;\">❔ What is the distibution of the difference if fields <code>Init</code> and <code>Completion</code>.</p>"
   ]
  },
  {
   "cell_type": "code",
   "execution_count": null,
   "metadata": {
    "execution": {
     "iopub.execute_input": "2023-03-12T12:23:08.05096Z",
     "iopub.status.busy": "2023-03-12T12:23:08.050587Z",
     "iopub.status.idle": "2023-03-12T12:23:08.124011Z",
     "shell.execute_reply": "2023-03-12T12:23:08.122831Z",
     "shell.execute_reply.started": "2023-03-12T12:23:08.050926Z"
    }
   },
   "outputs": [],
   "source": [
    "event_time = events_df.Completion - events_df.Init\n",
    "fig = px.histogram(x=event_time, nbins=30)\n",
    "fig.update_layout(\n",
    "    xaxis_title=\"Event duration\",\n",
    "    title={\n",
    "        'text': \"Distribution of event durations\",\n",
    "        'y':0.95,\n",
    "        'x':0.5,\n",
    "        'xanchor': 'center',\n",
    "        'yanchor': 'top'\n",
    "    }\n",
    ")\n",
    "fig.show()"
   ]
  },
  {
   "cell_type": "markdown",
   "metadata": {},
   "source": [
    "<p style=\"font-family: consolas; font-size: 16px;\">❔ How the bar chart looks like for categorical field <code>Type</code>.</p>"
   ]
  },
  {
   "cell_type": "code",
   "execution_count": null,
   "metadata": {
    "execution": {
     "iopub.execute_input": "2023-03-12T12:23:08.125717Z",
     "iopub.status.busy": "2023-03-12T12:23:08.125293Z",
     "iopub.status.idle": "2023-03-12T12:23:08.195013Z",
     "shell.execute_reply": "2023-03-12T12:23:08.194035Z",
     "shell.execute_reply.started": "2023-03-12T12:23:08.125678Z"
    }
   },
   "outputs": [],
   "source": [
    "events_type_counts = events_df.Type.value_counts()\n",
    "\n",
    "fig = px.bar(x=events_type_counts.index, y=events_type_counts.values)\n",
    "fig.update_layout(xaxis_title=\"Type\", yaxis_title=\"Count\")\n",
    "fig.show()"
   ]
  },
  {
   "cell_type": "markdown",
   "metadata": {},
   "source": [
    "<p style=\"font-family: consolas; font-size: 16px;\">❔ How the bar chart looks like for categorical field <code>Kinetic</code>.</p>"
   ]
  },
  {
   "cell_type": "code",
   "execution_count": null,
   "metadata": {
    "execution": {
     "iopub.execute_input": "2023-03-12T12:23:08.197043Z",
     "iopub.status.busy": "2023-03-12T12:23:08.196482Z",
     "iopub.status.idle": "2023-03-12T12:23:08.263055Z",
     "shell.execute_reply": "2023-03-12T12:23:08.261884Z",
     "shell.execute_reply.started": "2023-03-12T12:23:08.197006Z"
    }
   },
   "outputs": [],
   "source": [
    "events_kinetic_counts = events_df.Kinetic.value_counts()\n",
    "\n",
    "fig = px.bar(x=events_kinetic_counts.index, y=events_kinetic_counts.values)\n",
    "fig.update_layout(xaxis_title=\"Kinetic\", yaxis_title=\"Count\")\n",
    "fig.show()"
   ]
  },
  {
   "cell_type": "markdown",
   "metadata": {},
   "source": [
    "<p style=\"font-family: consolas; font-size: 16px;\">❔ How is the correlation matrix for the data looks like.</p>"
   ]
  },
  {
   "cell_type": "code",
   "execution_count": null,
   "metadata": {
    "execution": {
     "iopub.execute_input": "2023-03-12T12:23:08.265481Z",
     "iopub.status.busy": "2023-03-12T12:23:08.264829Z",
     "iopub.status.idle": "2023-03-12T12:23:08.332115Z",
     "shell.execute_reply": "2023-03-12T12:23:08.330466Z",
     "shell.execute_reply.started": "2023-03-12T12:23:08.26544Z"
    }
   },
   "outputs": [],
   "source": [
    "corr_mat = np.round(events_df.corr(), 3)\n",
    "\n",
    "fig = px.imshow(\n",
    "    corr_mat,\n",
    "    x=corr_mat.columns,\n",
    "    y=corr_mat.columns, \n",
    "    text_auto=True\n",
    "   )\n",
    "fig.update_xaxes(side=\"bottom\")\n",
    "fig.update_layout(\n",
    "    title={\n",
    "        'text': \"Correlation Matrix of events features\",\n",
    "        'y':0.95,\n",
    "        'x':0.5,\n",
    "        'xanchor': 'center',\n",
    "        'yanchor': 'top'\n",
    "    }\n",
    ")\n",
    "\n",
    "fig.show()"
   ]
  },
  {
   "cell_type": "markdown",
   "metadata": {},
   "source": [
    "<a id=\"2.6\"></a>\n",
    "## <div style=\"box-shadow: rgba(0, 0, 0, 0.18) 0px 2px 4px inset; padding:20px; font-size:24px; font-family: consolas; text-align:center; display:fill; border-radius:15px; color:rgb(67, 66, 66)\"> <b> 2.6 Overview <i>tasks.csv</i> file</b></div>"
   ]
  },
  {
   "cell_type": "markdown",
   "metadata": {},
   "source": [
    "<p style=\"font-family: consolas; font-size: 16px;\">⚪ <b>tasks.csv</b> Task metadata for series in the <code>defog</code> dataset. (Not relevant for the series in the <code>fog</code> or <code>daily</code> datasets.)</p>\n",
    "\n",
    "* <p style=\"font-family: consolas; font-size: 16px;\"><code>Id</code> The data series where the task was measured.</p>\n",
    "* <p style=\"font-family: consolas; font-size: 16px;\"><code>Begin</code> Time (s) the task began.</p>\n",
    "* <p style=\"font-family: consolas; font-size: 16px;\"><code>End</code> Time (s) the task ended.</p>\n",
    "* <p style=\"font-family: consolas; font-size: 16px;\"><code>Task</code> One of seven tasks types in the DeFOG protocol, described on <a href=\"https://www.kaggle.com/competitions/tlvmc-parkinsons-freezing-gait-prediction/overview/additional-data-documentation\"><strong>this page</strong></a>.</p>\n",
    "* <p style=\"font-family: consolas; font-size: 16px;\"><code>Description</code> Description of the task.</p>"
   ]
  },
  {
   "cell_type": "markdown",
   "metadata": {},
   "source": [
    "<p style=\"font-family: consolas; font-size: 16px;\">❔ How the data looks like.</p>"
   ]
  },
  {
   "cell_type": "code",
   "execution_count": null,
   "metadata": {
    "execution": {
     "iopub.execute_input": "2023-03-12T12:23:08.334983Z",
     "iopub.status.busy": "2023-03-12T12:23:08.334547Z",
     "iopub.status.idle": "2023-03-12T12:23:08.351899Z",
     "shell.execute_reply": "2023-03-12T12:23:08.350234Z",
     "shell.execute_reply.started": "2023-03-12T12:23:08.334946Z"
    }
   },
   "outputs": [],
   "source": [
    "tasks_df = pd.read_csv(\"/kaggle/input/tlvmc-parkinsons-freezing-gait-prediction/tasks.csv\")"
   ]
  },
  {
   "cell_type": "code",
   "execution_count": null,
   "metadata": {
    "execution": {
     "iopub.execute_input": "2023-03-12T12:23:08.354569Z",
     "iopub.status.busy": "2023-03-12T12:23:08.354128Z",
     "iopub.status.idle": "2023-03-12T12:23:08.36918Z",
     "shell.execute_reply": "2023-03-12T12:23:08.367625Z",
     "shell.execute_reply.started": "2023-03-12T12:23:08.35453Z"
    }
   },
   "outputs": [],
   "source": [
    "tasks_df.head()"
   ]
  },
  {
   "cell_type": "markdown",
   "metadata": {},
   "source": [
    "<p style=\"font-family: consolas; font-size: 16px;\">❔ What is length of the dataframe.</p>"
   ]
  },
  {
   "cell_type": "code",
   "execution_count": null,
   "metadata": {
    "execution": {
     "iopub.execute_input": "2023-03-12T12:23:08.371311Z",
     "iopub.status.busy": "2023-03-12T12:23:08.370942Z",
     "iopub.status.idle": "2023-03-12T12:23:08.38238Z",
     "shell.execute_reply": "2023-03-12T12:23:08.381309Z",
     "shell.execute_reply.started": "2023-03-12T12:23:08.37127Z"
    }
   },
   "outputs": [],
   "source": [
    "temp = len(tasks_df)\n",
    "print(\n",
    "    f\"Length of the subjects.csv file is: {color.BLUE}{temp}{color.END}\",\n",
    ")"
   ]
  },
  {
   "cell_type": "markdown",
   "metadata": {},
   "source": [
    "<p style=\"font-family: consolas; font-size: 16px;\">❔ Is there any missing data.</p>"
   ]
  },
  {
   "cell_type": "code",
   "execution_count": null,
   "metadata": {
    "execution": {
     "iopub.execute_input": "2023-03-12T12:23:08.383973Z",
     "iopub.status.busy": "2023-03-12T12:23:08.383558Z",
     "iopub.status.idle": "2023-03-12T12:23:08.404595Z",
     "shell.execute_reply": "2023-03-12T12:23:08.403031Z",
     "shell.execute_reply.started": "2023-03-12T12:23:08.383916Z"
    }
   },
   "outputs": [],
   "source": [
    "tasks_df.isnull().sum()"
   ]
  },
  {
   "cell_type": "markdown",
   "metadata": {},
   "source": [
    "<p style=\"font-family: consolas; font-size: 16px;\">❔ What is the distibution of the difference between fields <code>Begin</code> and <code>End</code>.</p>"
   ]
  },
  {
   "cell_type": "code",
   "execution_count": null,
   "metadata": {
    "execution": {
     "iopub.execute_input": "2023-03-12T13:14:03.584604Z",
     "iopub.status.busy": "2023-03-12T13:14:03.584055Z",
     "iopub.status.idle": "2023-03-12T13:14:03.672743Z",
     "shell.execute_reply": "2023-03-12T13:14:03.670998Z",
     "shell.execute_reply.started": "2023-03-12T13:14:03.584559Z"
    }
   },
   "outputs": [],
   "source": [
    "tasks_df[\"Duration\"] = tasks_df.End - tasks_df.Begin\n",
    "fig = px.histogram(x=tasks_df[\"Duration\"], nbins=30, color_discrete_sequence=['lightslategrey'])\n",
    "fig.update_layout(\n",
    "    xaxis_title=\"Task duration\",\n",
    "    title={\n",
    "        'text': \"Distribution of task durations\",\n",
    "        'y':0.95,\n",
    "        'x':0.5,\n",
    "        'xanchor': 'center',\n",
    "        'yanchor': 'top'\n",
    "    }\n",
    ")\n",
    "fig.show()"
   ]
  },
  {
   "cell_type": "markdown",
   "metadata": {},
   "source": [
    "<p style=\"font-family: consolas; font-size: 16px;\">❔ How the bar chart looks like for categorical field <code>Task</code>.</p>"
   ]
  },
  {
   "cell_type": "code",
   "execution_count": null,
   "metadata": {
    "execution": {
     "iopub.execute_input": "2023-03-12T13:14:12.059416Z",
     "iopub.status.busy": "2023-03-12T13:14:12.058772Z",
     "iopub.status.idle": "2023-03-12T13:14:12.141054Z",
     "shell.execute_reply": "2023-03-12T13:14:12.139564Z",
     "shell.execute_reply.started": "2023-03-12T13:14:12.059366Z"
    }
   },
   "outputs": [],
   "source": [
    "tasks_task_counts = tasks_df.Task.value_counts()\n",
    "\n",
    "fig = px.bar(x=tasks_task_counts.index, y=tasks_task_counts.values, color_discrete_sequence=['lightslategrey'])\n",
    "fig.update_layout(xaxis_title=\"Task\", yaxis_title=\"Count\")\n",
    "fig.show()"
   ]
  },
  {
   "cell_type": "markdown",
   "metadata": {},
   "source": [
    "<p style=\"font-family: consolas; font-size: 16px;\">❔ How the boxplot looks like for each task on duration.</p>"
   ]
  },
  {
   "cell_type": "code",
   "execution_count": null,
   "metadata": {
    "execution": {
     "iopub.execute_input": "2023-03-12T13:14:39.137018Z",
     "iopub.status.busy": "2023-03-12T13:14:39.13659Z",
     "iopub.status.idle": "2023-03-12T13:14:39.218023Z",
     "shell.execute_reply": "2023-03-12T13:14:39.216455Z",
     "shell.execute_reply.started": "2023-03-12T13:14:39.136983Z"
    }
   },
   "outputs": [],
   "source": [
    "fig = px.box(\n",
    "    tasks_df, \n",
    "    x='Duration', y='Task',\n",
    "    orientation='h', height=1000, \n",
    "    color_discrete_sequence=['lightslategrey']\n",
    ")\n",
    "\n",
    "fig.update_layout(\n",
    "    title={\n",
    "        'text': \"Task Duration Boxplot\",\n",
    "        'y':0.98,\n",
    "        'x':0.5,\n",
    "        'xanchor': 'center',\n",
    "        'yanchor': 'top'\n",
    "    },\n",
    "    margin=dict(l=50, r=0, t=50, b=50)\n",
    ")\n",
    "fig.show(autosize=True)"
   ]
  },
  {
   "cell_type": "code",
   "execution_count": null,
   "metadata": {
    "execution": {
     "iopub.execute_input": "2023-03-12T12:23:08.667025Z",
     "iopub.status.busy": "2023-03-12T12:23:08.666609Z",
     "iopub.status.idle": "2023-03-12T12:23:08.673696Z",
     "shell.execute_reply": "2023-03-12T12:23:08.671786Z",
     "shell.execute_reply.started": "2023-03-12T12:23:08.666988Z"
    }
   },
   "outputs": [],
   "source": [
    "# (⁠ ⁠ꈍ⁠ᴗ⁠ꈍ⁠) WORK STILL IN PROGRESS"
   ]
  },
  {
   "cell_type": "markdown",
   "metadata": {},
   "source": [
    "# <div style=\"box-shadow: rgba(240, 46, 170, 0.4) -5px 5px inset, rgba(240, 46, 170, 0.3) -10px 10px inset, rgba(240, 46, 170, 0.2) -15px 15px inset, rgba(240, 46, 170, 0.1) -20px 20px inset, rgba(240, 46, 170, 0.05) -25px 25px inset; padding:20px; font-size:30px; font-family: consolas; display:fill; border-radius:15px; color: rgba(240, 46, 170, 0.7)\"> <b> ༼⁠ ⁠つ⁠ ⁠◕⁠‿⁠◕⁠ ⁠༽⁠つ Thank You!</b></div>\n",
    "\n",
    "<p style=\"font-family:verdana; color:rgb(34, 34, 34); font-family: consolas; font-size: 16px;\"> 💌 Thank you for taking the time to read through my notebook. I hope you found it interesting and informative. If you have any feedback or suggestions for improvement, please don't hesitate to let me know in the comments. <br><br> 🚀 If you liked this notebook, please consider upvoting it so that others can discover it too. Your support means a lot to me, and it helps to motivate me to create more content in the future. <br><br> ❤️ Once again, thank you for your support, and I hope to see you again soon!</p>"
   ]
  }
 ],
 "metadata": {
  "kernelspec": {
   "display_name": "Python 3 (ipykernel)",
   "language": "python",
   "name": "python3"
  },
  "language_info": {
   "codemirror_mode": {
    "name": "ipython",
    "version": 3
   },
   "file_extension": ".py",
   "mimetype": "text/x-python",
   "name": "python",
   "nbconvert_exporter": "python",
   "pygments_lexer": "ipython3",
   "version": "3.8.8"
  }
 },
 "nbformat": 4,
 "nbformat_minor": 4
}
